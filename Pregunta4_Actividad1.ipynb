{
  "cells": [
    {
      "cell_type": "code",
      "execution_count": 1,
      "metadata": {
        "colab": {
          "base_uri": "https://localhost:8080/"
        },
        "id": "6CGyG8LCmrZo",
        "outputId": "1daf0b7e-1f31-40ed-c9a2-6ef0f39fefe6"
      },
      "outputs": [
        {
          "name": "stdout",
          "output_type": "stream",
          "text": [
            "El área de la pared es: 17.5 metros cuadrados\n"
          ]
        }
      ],
      "source": [
        "largo = 5.0\n",
        "alto = 3.5\n",
        "\n",
        "area = largo * alto\n",
        "\n",
        "print(\"El área de la pared es:\", area, \"metros cuadrados\")"
      ]
    }
  ],
  "metadata": {
    "colab": {
      "provenance": []
    },
    "kernelspec": {
      "display_name": "Python 3",
      "name": "python3"
    },
    "language_info": {
      "name": "python"
    }
  },
  "nbformat": 4,
  "nbformat_minor": 0
}
