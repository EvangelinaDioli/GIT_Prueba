{
  "nbformat": 4,
  "nbformat_minor": 0,
  "metadata": {
    "colab": {
      "provenance": []
    },
    "kernelspec": {
      "name": "python3",
      "display_name": "Python 3"
    },
    "language_info": {
      "name": "python"
    }
  },
  "cells": [
    {
      "cell_type": "markdown",
      "source": [
        "Una persona debe pintar una pared que mide 5 metros de largo por 3.5 metros de alto y necesita saber cuántos metros cuadrados representa esa pared para poder comprar la pintura. Asigne un valor numérico real positivo a dos variables que representan el largo y el alto de la pared. Calcule y muestre la información deseada."
      ],
      "metadata": {
        "id": "E-IVNmvFmpD6"
      }
    },
    {
      "cell_type": "code",
      "source": [
        "largo = 5.0\n",
        "alto = 3.5\n",
        "\n",
        "area = largo * alto\n",
        "\n",
        "print(\"El área de la pared es:\", area, \"metros cuadrados\")"
      ],
      "metadata": {
        "colab": {
          "base_uri": "https://localhost:8080/"
        },
        "id": "6CGyG8LCmrZo",
        "outputId": "1daf0b7e-1f31-40ed-c9a2-6ef0f39fefe6"
      },
      "execution_count": 1,
      "outputs": [
        {
          "output_type": "stream",
          "name": "stdout",
          "text": [
            "El área de la pared es: 17.5 metros cuadrados\n"
          ]
        }
      ]
    }
  ]
}